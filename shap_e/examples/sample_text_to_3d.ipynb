{
 "cells": [
  {
   "cell_type": "code",
   "execution_count": null,
   "id": "68b77b3f",
   "metadata": {},
   "outputs": [],
   "source": [
    "!pwd"
   ]
  },
  {
   "cell_type": "code",
   "execution_count": null,
   "id": "f80e18bc",
   "metadata": {},
   "outputs": [],
   "source": [
    "!python --version"
   ]
  },
  {
   "cell_type": "code",
   "execution_count": null,
   "id": "507c0df2",
   "metadata": {},
   "outputs": [],
   "source": [
    "%cd /content/shap-ePersonalModel/shap_e"
   ]
  },
  {
   "cell_type": "code",
   "execution_count": null,
   "id": "93a30046",
   "metadata": {},
   "outputs": [],
   "source": [
    "#Run once per session (files get deleted after runtime resource terminates):\n",
    "\n",
    "!git clone https://github.com/openai/shap-e\n",
    "%cd shap-e\n",
    "!pip install -e .\n",
    "\n",
    "#!pip install pytorch3d\n"
   ]
  },
  {
   "cell_type": "code",
   "execution_count": 1,
   "id": "964ccced",
   "metadata": {
    "tags": []
   },
   "outputs": [],
   "source": [
    "import torch\n",
    "\n",
    "from shap_e.diffusion.sample import sample_latents\n",
    "from shap_e.diffusion.gaussian_diffusion import diffusion_from_config\n",
    "from shap_e.models.download import load_model, load_config\n",
    "from shap_e.util.notebooks import create_pan_cameras, decode_latent_images, gif_widget"
   ]
  },
  {
   "cell_type": "code",
   "execution_count": 2,
   "id": "8eed3a76",
   "metadata": {
    "tags": []
   },
   "outputs": [],
   "source": [
    "device = torch.device('cuda' if torch.cuda.is_available() else 'cpu')"
   ]
  },
  {
   "cell_type": "code",
   "execution_count": 5,
   "id": "4dc025a3-011d-427b-a552-48e0c545b26a",
   "metadata": {
    "tags": []
   },
   "outputs": [
    {
     "name": "stdout",
     "output_type": "stream",
     "text": [
      "Num GPUs Available:  1\n",
      "Device mapping:\n",
      "/job:localhost/replica:0/task:0/device:GPU:0 -> device: 0, name: NVIDIA GeForce RTX 3080 Ti, pci bus id: 0000:09:00.0, compute capability: 8.6\n",
      "\n"
     ]
    }
   ],
   "source": [
    "#Check if using gpu \n",
    "\n",
    "import tensorflow as tf\n",
    "print(\"Num GPUs Available: \", len(tf.config.list_physical_devices('GPU')))\n",
    "sess = tf.compat.v1.Session(config=tf.compat.v1.ConfigProto(log_device_placement=True))"
   ]
  },
  {
   "cell_type": "code",
   "execution_count": 3,
   "id": "2d922637",
   "metadata": {
    "tags": []
   },
   "outputs": [
    {
     "data": {
      "application/vnd.jupyter.widget-view+json": {
       "model_id": "fdc36fd00ca24fd5bb6f447b5eaba277",
       "version_major": 2,
       "version_minor": 0
      },
      "text/plain": [
       "  0%|          | 0.00/1.78G [00:00<?, ?iB/s]"
      ]
     },
     "metadata": {},
     "output_type": "display_data"
    },
    {
     "name": "stderr",
     "output_type": "stream",
     "text": [
      "100%|███████████████████████████████████████| 890M/890M [01:31<00:00, 10.2MiB/s]\n"
     ]
    },
    {
     "data": {
      "application/vnd.jupyter.widget-view+json": {
       "model_id": "dcc6a33401544f6aac8c08667fe118f1",
       "version_major": 2,
       "version_minor": 0
      },
      "text/plain": [
       "  0%|          | 0.00/1.26G [00:00<?, ?iB/s]"
      ]
     },
     "metadata": {},
     "output_type": "display_data"
    }
   ],
   "source": [
    "xm = load_model('transmitter', device=device)\n",
    "model = load_model('text300M', device=device)\n",
    "diffusion = diffusion_from_config(load_config('diffusion'))"
   ]
  },
  {
   "cell_type": "code",
   "execution_count": 6,
   "id": "53d329d0",
   "metadata": {
    "tags": []
   },
   "outputs": [
    {
     "data": {
      "application/vnd.jupyter.widget-view+json": {
       "model_id": "df74182a6085404195c3d12537f8b56b",
       "version_major": 2,
       "version_minor": 0
      },
      "text/plain": [
       "  0%|          | 0/32 [00:00<?, ?it/s]"
      ]
     },
     "metadata": {},
     "output_type": "display_data"
    },
    {
     "name": "stderr",
     "output_type": "stream",
     "text": [
      "\n",
      "KeyboardInterrupt\n",
      "\n"
     ]
    }
   ],
   "source": [
    "batch_size = 1 #Default 4\n",
    "guidance_scale = 15.0 #Just like CFG Scale in Stable Diffusion\n",
    "prompt = input(\"Enter what you want Shap-e to generate here:\")\n",
    "#prompt = \"bird with human face\"\n",
    "\n",
    "latents = sample_latents(\n",
    "    batch_size=batch_size,\n",
    "    model=model,\n",
    "    diffusion=diffusion,\n",
    "    guidance_scale=guidance_scale,\n",
    "    model_kwargs=dict(texts=[prompt] * batch_size),\n",
    "    progress=True,\n",
    "    clip_denoised=True,\n",
    "    use_fp16=True,\n",
    "    use_karras=True,\n",
    "    karras_steps=64,\n",
    "    sigma_min=1e-3,\n",
    "    sigma_max=160,\n",
    "    s_churn=0,\n",
    ")"
   ]
  },
  {
   "cell_type": "code",
   "execution_count": null,
   "id": "633da2ec",
   "metadata": {
    "tags": []
   },
   "outputs": [],
   "source": [
    "render_mode = 'stf' # you can change this to 'nerf' or 'stf'\n",
    "size = 64 # this is the size of the renders; higher values take longer to render.\n",
    "\n",
    "cameras = create_pan_cameras(size, device)\n",
    "for i, latent in enumerate(latents):\n",
    "    images = decode_latent_images(xm, latent, cameras, rendering_mode=render_mode)\n",
    "    display(gif_widget(images))"
   ]
  },
  {
   "cell_type": "code",
   "execution_count": null,
   "id": "7e37ebe6",
   "metadata": {},
   "outputs": [],
   "source": [
    "output_path = \"./shap-e/\"\n",
    "# Create the Vertex_Colors folder if it doesn't exist\n",
    "vc_dir = os.path.join(os.path.dirname(output_path), \"vertex_colors\")\n",
    "if not os.path.exists(vc_dir):\n",
    "    os.makedirs(vc_dir)\n",
    "print(vc_dir)"
   ]
  },
  {
   "cell_type": "code",
   "execution_count": null,
   "id": "ffc2c797",
   "metadata": {},
   "outputs": [],
   "source": [
    "cameras = create_pan_cameras(size, device)  \n",
    "for i, latent in enumerate(latents):  \n",
    "    images = decode_latent_images(xm, latent, cameras, rendering_mode=render_mode)  \n",
    "    display(gif_widget(images))  \n",
    "    # Extract color for final mesh   \n",
    "    for j, image in enumerate(images):  \n",
    "        filename = os.path.join(\"vertex_colors\", f\"color_{i}_{j}.png\")  \n",
    "        image.save(filename)  "
   ]
  },
  {
   "cell_type": "code",
   "execution_count": null,
   "id": "85a4dce4",
   "metadata": {
    "tags": []
   },
   "outputs": [],
   "source": [
    "# Example of saving the latents as meshes.\n",
    "from shap_e.util.notebooks import decode_latent_mesh\n",
    "\n",
    "for i, latent in enumerate(latents):\n",
    "    t = decode_latent_mesh(xm, latent).tri_mesh()\n",
    "    with open(f'example_mesh_{i}.ply', 'wb') as f:\n",
    "        t.write_ply(f)\n",
    "    with open(f'example_mesh_{i}.obj', 'w') as f:\n",
    "        t.write_obj(f)"
   ]
  },
  {
   "cell_type": "code",
   "execution_count": null,
   "id": "e5e508c7-440a-46bc-9dc6-03453b0416e6",
   "metadata": {},
   "outputs": [],
   "source": [
    "%pip install bpy"
   ]
  },
  {
   "cell_type": "code",
   "execution_count": null,
   "id": "80aa2dd5",
   "metadata": {},
   "outputs": [],
   "source": [
    "#WARNING: Installs Blender for Linux machines. RUN ONLY ON MACHINES THAT DELETE COMPUTE INSTANCES (e.g. Colab)\n",
    "#!curl -LO https://mirror.clarkson.edu/blender/release/Blender4.0/blender-4.0.2-linux-x64.tar.xz\n"
   ]
  },
  {
   "cell_type": "code",
   "execution_count": null,
   "id": "e265ff97",
   "metadata": {},
   "outputs": [],
   "source": [
    "#Extracts downloaded Blender \n",
    "'''\n",
    "import tarfile\n",
    "\n",
    "with tarfile.open('/content/shap-e/blender-4.0.2-linux-x64.tar.xz', 'r:xz') as tar:\n",
    "    tar.extractall()\n",
    "\n",
    "'''"
   ]
  },
  {
   "cell_type": "code",
   "execution_count": null,
   "id": "04cde53a",
   "metadata": {},
   "outputs": [],
   "source": [
    "%pwd"
   ]
  },
  {
   "cell_type": "code",
   "execution_count": null,
   "id": "5a76e8ba",
   "metadata": {},
   "outputs": [],
   "source": [
    "# !/content/shap-e/blender-4.0.2-linux-x64/blender -b -P /content/shap-e/vertexColorexport.py -- /content/shap-e/example_mesh_0.obj\n"
   ]
  },
  {
   "cell_type": "code",
   "execution_count": null,
   "id": "0be8923e",
   "metadata": {},
   "outputs": [],
   "source": [
    "%python vertexColorImport.py"
   ]
  }
 ],
 "metadata": {
  "kernelspec": {
   "display_name": "Python 3 (ipykernel)",
   "language": "python",
   "name": "python3"
  },
  "language_info": {
   "codemirror_mode": {
    "name": "ipython",
    "version": 3
   },
   "file_extension": ".py",
   "mimetype": "text/x-python",
   "name": "python",
   "nbconvert_exporter": "python",
   "pygments_lexer": "ipython3",
   "version": "3.10.6"
  }
 },
 "nbformat": 4,
 "nbformat_minor": 5
}
